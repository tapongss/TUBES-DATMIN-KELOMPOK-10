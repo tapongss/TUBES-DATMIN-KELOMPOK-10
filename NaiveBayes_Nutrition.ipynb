{
 "cells": [
  {
   "cell_type": "markdown",
   "id": "a4b16b2a",
   "metadata": {},
   "source": [
    "## **Data Exploration**\n",
    "\n",
    "Dataset ini berisi informasi nutrisi untuk berbagai item makanan dari sebuah restoran cepat saji. Berikut adalah penjelasan untuk setiap kolom yang relevan:\n",
    "\n",
    "1.  **Name**: Nama dari item makanan atau minuman.\n",
    "2.  **Serving Size**: Ukuran porsi dari item makanan.\n",
    "3.  **Calories**: Jumlah total energi yang terkandung dalam makanan, diukur dalam kilokalori.\n",
    "4.  **Calories from Fat**: Jumlah energi yang spesifik berasal dari lemak.\n",
    "5.  **Fat (g)**: Total kandungan lemak dalam satuan gram.\n",
    "6.  **Saturated Fat (g)**: Jumlah lemak jenuh, yaitu jenis lemak yang dapat meningkatkan kadar kolesterol.\n",
    "7.  **Trans Fat (g)**: Jumlah lemak trans, jenis lemak yang sangat tidak sehat.\n",
    "8.  **Cholesterol (mg)**: Kandungan kolesterol dalam satuan miligram.\n",
    "9.  **Sodium (mg)**: Kandungan sodium (garam) dalam satuan miligram.\n",
    "10. **Carbs (g)**: Total kandungan karbohidrat dalam satuan gram.\n",
    "11. **Fiber (g)**: Jumlah serat pangan, bagian dari karbohidrat yang tidak dapat dicerna.\n",
    "12. **Sugars (g)**: Jumlah gula yang terkandung dalam makanan.\n",
    "13. **Protein (g)**: Jumlah protein dalam satuan gram.\n",
    "14. **Category**: Kategori dari item makanan (contoh: Breakfast, Burgers, Salads, dll.) yang akan menjadi target prediksi kita."
   ]
  },
  {
   "cell_type": "code",
   "execution_count": 12,
   "id": "ad10cac4",
   "metadata": {},
   "outputs": [],
   "source": [
    "# Import semua library yang dibutuhkan\n",
    "import pandas as pd\n",
    "import numpy as np\n",
    "import matplotlib.pyplot as plt\n",
    "import seaborn as sns\n",
    "import pickle\n",
    "\n",
    "from sklearn.model_selection import train_test_split\n",
    "from sklearn.preprocessing import LabelEncoder, StandardScaler\n",
    "from sklearn.naive_bayes import GaussianNB\n",
    "from sklearn.metrics import accuracy_score, classification_report, confusion_matrix\n",
    "\n",
    "# Mengatur gaya visualisasi\n",
    "sns.set_theme(style=\"whitegrid\")"
   ]
  },
  {
   "cell_type": "code",
   "execution_count": 3,
   "id": "435e722a",
   "metadata": {},
   "outputs": [
    {
     "data": {
      "text/html": [
       "<div>\n",
       "<style scoped>\n",
       "    .dataframe tbody tr th:only-of-type {\n",
       "        vertical-align: middle;\n",
       "    }\n",
       "\n",
       "    .dataframe tbody tr th {\n",
       "        vertical-align: top;\n",
       "    }\n",
       "\n",
       "    .dataframe thead th {\n",
       "        text-align: right;\n",
       "    }\n",
       "</style>\n",
       "<table border=\"1\" class=\"dataframe\">\n",
       "  <thead>\n",
       "    <tr style=\"text-align: right;\">\n",
       "      <th></th>\n",
       "      <th>id</th>\n",
       "      <th>calories</th>\n",
       "      <th>proteins</th>\n",
       "      <th>fat</th>\n",
       "      <th>carbohydrate</th>\n",
       "      <th>name</th>\n",
       "      <th>image</th>\n",
       "    </tr>\n",
       "  </thead>\n",
       "  <tbody>\n",
       "    <tr>\n",
       "      <th>0</th>\n",
       "      <td>1</td>\n",
       "      <td>280.0</td>\n",
       "      <td>9.2</td>\n",
       "      <td>28.4</td>\n",
       "      <td>0.0</td>\n",
       "      <td>Abon</td>\n",
       "      <td>https://img-cdn.medkomtek.com/PbrY9X3ignQ8sVuj...</td>\n",
       "    </tr>\n",
       "    <tr>\n",
       "      <th>1</th>\n",
       "      <td>2</td>\n",
       "      <td>513.0</td>\n",
       "      <td>23.7</td>\n",
       "      <td>37.0</td>\n",
       "      <td>21.3</td>\n",
       "      <td>Abon haruwan</td>\n",
       "      <td>https://img-global.cpcdn.com/recipes/cbf330fbd...</td>\n",
       "    </tr>\n",
       "    <tr>\n",
       "      <th>2</th>\n",
       "      <td>3</td>\n",
       "      <td>0.0</td>\n",
       "      <td>0.0</td>\n",
       "      <td>0.2</td>\n",
       "      <td>0.0</td>\n",
       "      <td>Agar-agar</td>\n",
       "      <td>https://res.cloudinary.com/dk0z4ums3/image/upl...</td>\n",
       "    </tr>\n",
       "    <tr>\n",
       "      <th>3</th>\n",
       "      <td>4</td>\n",
       "      <td>45.0</td>\n",
       "      <td>1.1</td>\n",
       "      <td>0.4</td>\n",
       "      <td>10.8</td>\n",
       "      <td>Akar tonjong segar</td>\n",
       "      <td>https://images.tokopedia.net/img/cache/200-squ...</td>\n",
       "    </tr>\n",
       "    <tr>\n",
       "      <th>4</th>\n",
       "      <td>5</td>\n",
       "      <td>37.0</td>\n",
       "      <td>4.4</td>\n",
       "      <td>0.5</td>\n",
       "      <td>3.8</td>\n",
       "      <td>Aletoge segar</td>\n",
       "      <td>https://nilaigizi.com/assets/images/produk/pro...</td>\n",
       "    </tr>\n",
       "  </tbody>\n",
       "</table>\n",
       "</div>"
      ],
      "text/plain": [
       "   id  calories  proteins   fat  carbohydrate                name  \\\n",
       "0   1     280.0       9.2  28.4           0.0                Abon   \n",
       "1   2     513.0      23.7  37.0          21.3        Abon haruwan   \n",
       "2   3       0.0       0.0   0.2           0.0           Agar-agar   \n",
       "3   4      45.0       1.1   0.4          10.8  Akar tonjong segar   \n",
       "4   5      37.0       4.4   0.5           3.8       Aletoge segar   \n",
       "\n",
       "                                               image  \n",
       "0  https://img-cdn.medkomtek.com/PbrY9X3ignQ8sVuj...  \n",
       "1  https://img-global.cpcdn.com/recipes/cbf330fbd...  \n",
       "2  https://res.cloudinary.com/dk0z4ums3/image/upl...  \n",
       "3  https://images.tokopedia.net/img/cache/200-squ...  \n",
       "4  https://nilaigizi.com/assets/images/produk/pro...  "
      ]
     },
     "execution_count": 3,
     "metadata": {},
     "output_type": "execute_result"
    }
   ],
   "source": [
    "# Memuat dataset\n",
    "df = pd.read_csv('nutrition.csv')\n",
    "df.head()"
   ]
  },
  {
   "cell_type": "markdown",
   "id": "000fb626",
   "metadata": {},
   "source": [
    "### **Informasi Dasar dan Pembersihan Data**\n",
    "\n",
    "Pada tahap ini, kita akan memeriksa tipe data, nilai yang hilang (missing values), dan data duplikat untuk memastikan kualitas data sebelum masuk ke pemodelan."
   ]
  },
  {
   "cell_type": "code",
   "execution_count": 4,
   "id": "d5db1455",
   "metadata": {},
   "outputs": [
    {
     "name": "stdout",
     "output_type": "stream",
     "text": [
      "Informasi Tipe Data dan Nilai Non-Null:\n",
      "<class 'pandas.core.frame.DataFrame'>\n",
      "RangeIndex: 1346 entries, 0 to 1345\n",
      "Data columns (total 7 columns):\n",
      " #   Column        Non-Null Count  Dtype  \n",
      "---  ------        --------------  -----  \n",
      " 0   id            1346 non-null   int64  \n",
      " 1   calories      1346 non-null   float64\n",
      " 2   proteins      1346 non-null   float64\n",
      " 3   fat           1346 non-null   float64\n",
      " 4   carbohydrate  1346 non-null   float64\n",
      " 5   name          1346 non-null   object \n",
      " 6   image         1346 non-null   object \n",
      "dtypes: float64(4), int64(1), object(2)\n",
      "memory usage: 73.7+ KB\n",
      "\n",
      "Jumlah Nilai Null per Kolom:\n",
      "id              0\n",
      "calories        0\n",
      "proteins        0\n",
      "fat             0\n",
      "carbohydrate    0\n",
      "name            0\n",
      "image           0\n",
      "dtype: int64\n",
      "\n",
      "Jumlah Data Duplikat: 0\n",
      "\n",
      "Data setelah dibersihkan dari nilai null dan duplikat.\n"
     ]
    }
   ],
   "source": [
    "# Informasi Data\n",
    "print(\"Informasi Tipe Data dan Nilai Non-Null:\")\n",
    "df.info()\n",
    "\n",
    "print(\"\\nJumlah Nilai Null per Kolom:\")\n",
    "print(df.isnull().sum())\n",
    "\n",
    "df.dropna(inplace=True)\n",
    "print(f\"\\nJumlah Data Duplikat: {df.duplicated().sum()}\")\n",
    "df.drop_duplicates(inplace=True)\n",
    "print(\"\\nData setelah dibersihkan dari nilai null dan duplikat.\")"
   ]
  },
  {
   "cell_type": "code",
   "execution_count": 5,
   "id": "fe845ff0",
   "metadata": {},
   "outputs": [
    {
     "data": {
      "text/html": [
       "<div>\n",
       "<style scoped>\n",
       "    .dataframe tbody tr th:only-of-type {\n",
       "        vertical-align: middle;\n",
       "    }\n",
       "\n",
       "    .dataframe tbody tr th {\n",
       "        vertical-align: top;\n",
       "    }\n",
       "\n",
       "    .dataframe thead th {\n",
       "        text-align: right;\n",
       "    }\n",
       "</style>\n",
       "<table border=\"1\" class=\"dataframe\">\n",
       "  <thead>\n",
       "    <tr style=\"text-align: right;\">\n",
       "      <th></th>\n",
       "      <th>id</th>\n",
       "      <th>calories</th>\n",
       "      <th>proteins</th>\n",
       "      <th>fat</th>\n",
       "      <th>carbohydrate</th>\n",
       "    </tr>\n",
       "  </thead>\n",
       "  <tbody>\n",
       "    <tr>\n",
       "      <th>count</th>\n",
       "      <td>1346.000000</td>\n",
       "      <td>1346.000000</td>\n",
       "      <td>1346.000000</td>\n",
       "      <td>1346.000000</td>\n",
       "      <td>1346.000000</td>\n",
       "    </tr>\n",
       "    <tr>\n",
       "      <th>mean</th>\n",
       "      <td>673.500000</td>\n",
       "      <td>203.217385</td>\n",
       "      <td>10.001189</td>\n",
       "      <td>7.584027</td>\n",
       "      <td>25.390193</td>\n",
       "    </tr>\n",
       "    <tr>\n",
       "      <th>std</th>\n",
       "      <td>388.701042</td>\n",
       "      <td>163.075430</td>\n",
       "      <td>11.847980</td>\n",
       "      <td>13.733063</td>\n",
       "      <td>32.193054</td>\n",
       "    </tr>\n",
       "    <tr>\n",
       "      <th>min</th>\n",
       "      <td>1.000000</td>\n",
       "      <td>0.000000</td>\n",
       "      <td>0.000000</td>\n",
       "      <td>0.000000</td>\n",
       "      <td>0.000000</td>\n",
       "    </tr>\n",
       "    <tr>\n",
       "      <th>25%</th>\n",
       "      <td>337.250000</td>\n",
       "      <td>75.000000</td>\n",
       "      <td>1.800000</td>\n",
       "      <td>0.500000</td>\n",
       "      <td>4.525000</td>\n",
       "    </tr>\n",
       "    <tr>\n",
       "      <th>50%</th>\n",
       "      <td>673.500000</td>\n",
       "      <td>146.000000</td>\n",
       "      <td>5.000000</td>\n",
       "      <td>2.000000</td>\n",
       "      <td>13.300000</td>\n",
       "    </tr>\n",
       "    <tr>\n",
       "      <th>75%</th>\n",
       "      <td>1009.750000</td>\n",
       "      <td>333.750000</td>\n",
       "      <td>15.000000</td>\n",
       "      <td>8.275000</td>\n",
       "      <td>37.575000</td>\n",
       "    </tr>\n",
       "    <tr>\n",
       "      <th>max</th>\n",
       "      <td>1346.000000</td>\n",
       "      <td>940.000000</td>\n",
       "      <td>83.000000</td>\n",
       "      <td>100.000000</td>\n",
       "      <td>647.000000</td>\n",
       "    </tr>\n",
       "  </tbody>\n",
       "</table>\n",
       "</div>"
      ],
      "text/plain": [
       "                id     calories     proteins          fat  carbohydrate\n",
       "count  1346.000000  1346.000000  1346.000000  1346.000000   1346.000000\n",
       "mean    673.500000   203.217385    10.001189     7.584027     25.390193\n",
       "std     388.701042   163.075430    11.847980    13.733063     32.193054\n",
       "min       1.000000     0.000000     0.000000     0.000000      0.000000\n",
       "25%     337.250000    75.000000     1.800000     0.500000      4.525000\n",
       "50%     673.500000   146.000000     5.000000     2.000000     13.300000\n",
       "75%    1009.750000   333.750000    15.000000     8.275000     37.575000\n",
       "max    1346.000000   940.000000    83.000000   100.000000    647.000000"
      ]
     },
     "execution_count": 5,
     "metadata": {},
     "output_type": "execute_result"
    }
   ],
   "source": [
    "df.describe()"
   ]
  },
  {
   "cell_type": "markdown",
   "id": "0928f3a1",
   "metadata": {},
   "source": [
    "## **Pemodelan Klasifikasi (Naive Bayes)**\n",
    "\n",
    "Tujuan dari pemodelan ini adalah untuk membangun sebuah model machine learning yang dapat memprediksi `Category` sebuah makanan berdasarkan kandungan nutrisinya. Kita akan menggunakan algoritma **Gaussian Naive Bayes**."
   ]
  },
  {
   "cell_type": "code",
   "execution_count": 1,
   "id": "0f2067e5",
   "metadata": {},
   "outputs": [
    {
     "name": "stdout",
     "output_type": "stream",
     "text": [
      "Confusion Matrix:\n",
      "[[254   0]\n",
      " [  0 150]]\n",
      "\n",
      "Classification Report:\n",
      "               precision    recall  f1-score   support\n",
      "\n",
      "Rendah Kalori       1.00      1.00      1.00       254\n",
      "Tinggi Kalori       1.00      1.00      1.00       150\n",
      "\n",
      "     accuracy                           1.00       404\n",
      "    macro avg       1.00      1.00      1.00       404\n",
      " weighted avg       1.00      1.00      1.00       404\n",
      "\n"
     ]
    }
   ],
   "source": [
    "import pandas as pd\n",
    "from sklearn.model_selection import train_test_split\n",
    "from sklearn.preprocessing import StandardScaler\n",
    "from sklearn.ensemble import RandomForestClassifier\n",
    "from sklearn.metrics import classification_report, confusion_matrix\n",
    "\n",
    "# Load dataset\n",
    "df = pd.read_csv('nutrition.csv')\n",
    "\n",
    "# Tambahkan kolom kategori (contoh: Tinggi Kalori jika > 200)\n",
    "df['Category'] = df['calories'].apply(lambda x: 'Tinggi Kalori' if x > 200 else 'Rendah Kalori')\n",
    "\n",
    "# Fitur dan Target\n",
    "features = ['calories', 'proteins', 'fat', 'carbohydrate']\n",
    "target = 'Category'\n",
    "\n",
    "# Pisahkan data\n",
    "X = df[features]\n",
    "y = df[target]\n",
    "\n",
    "# Normalisasi data\n",
    "scaler = StandardScaler()\n",
    "X_scaled = scaler.fit_transform(X)\n",
    "\n",
    "# Split data\n",
    "X_train, X_test, y_train, y_test = train_test_split(X_scaled, y, test_size=0.3, random_state=42)\n",
    "\n",
    "# Model klasifikasi\n",
    "model = RandomForestClassifier(random_state=42)\n",
    "model.fit(X_train, y_train)\n",
    "\n",
    "# Evaluasi model\n",
    "y_pred = model.predict(X_test)\n",
    "print(\"Confusion Matrix:\")\n",
    "print(confusion_matrix(y_test, y_pred))\n",
    "print(\"\\nClassification Report:\")\n",
    "print(classification_report(y_test, y_pred))\n"
   ]
  },
  {
   "cell_type": "code",
   "execution_count": 2,
   "id": "46684a49",
   "metadata": {},
   "outputs": [
    {
     "ename": "NameError",
     "evalue": "name 'GaussianNB' is not defined",
     "output_type": "error",
     "traceback": [
      "\u001b[31m---------------------------------------------------------------------------\u001b[39m",
      "\u001b[31mNameError\u001b[39m                                 Traceback (most recent call last)",
      "\u001b[36mCell\u001b[39m\u001b[36m \u001b[39m\u001b[32mIn[2]\u001b[39m\u001b[32m, line 1\u001b[39m\n\u001b[32m----> \u001b[39m\u001b[32m1\u001b[39m model = \u001b[43mGaussianNB\u001b[49m()\n\u001b[32m      2\u001b[39m model.fit(X_train_scaled, y_train)\n\u001b[32m      3\u001b[39m \u001b[38;5;28mprint\u001b[39m(\u001b[33m\"\u001b[39m\u001b[33mModel berhasil dilatih!\u001b[39m\u001b[33m\"\u001b[39m)\n",
      "\u001b[31mNameError\u001b[39m: name 'GaussianNB' is not defined"
     ]
    }
   ],
   "source": [
    "model = GaussianNB()\n",
    "model.fit(X_train_scaled, y_train)\n",
    "print(\"Model berhasil dilatih!\")"
   ]
  },
  {
   "cell_type": "markdown",
   "id": "81af964c",
   "metadata": {},
   "source": [
    "### **Evaluasi Model**\n",
    "\n",
    "Setelah model dilatih, kita perlu mengukur seberapa baik performanya pada data yang belum pernah dilihat sebelumnya (data uji)."
   ]
  },
  {
   "cell_type": "code",
   "execution_count": 3,
   "id": "9f566088",
   "metadata": {},
   "outputs": [
    {
     "ename": "NameError",
     "evalue": "name 'X_test_scaled' is not defined",
     "output_type": "error",
     "traceback": [
      "\u001b[31m---------------------------------------------------------------------------\u001b[39m",
      "\u001b[31mNameError\u001b[39m                                 Traceback (most recent call last)",
      "\u001b[36mCell\u001b[39m\u001b[36m \u001b[39m\u001b[32mIn[3]\u001b[39m\u001b[32m, line 1\u001b[39m\n\u001b[32m----> \u001b[39m\u001b[32m1\u001b[39m y_pred = model.predict(\u001b[43mX_test_scaled\u001b[49m)\n\u001b[32m      3\u001b[39m accuracy = accuracy_score(y_test, y_pred)\n\u001b[32m      4\u001b[39m \u001b[38;5;28mprint\u001b[39m(\u001b[33mf\u001b[39m\u001b[33m\"\u001b[39m\u001b[33mAkurasi Model: \u001b[39m\u001b[38;5;132;01m{\u001b[39;00maccuracy\u001b[38;5;250m \u001b[39m*\u001b[38;5;250m \u001b[39m\u001b[32m100\u001b[39m\u001b[38;5;132;01m:\u001b[39;00m\u001b[33m.2f\u001b[39m\u001b[38;5;132;01m}\u001b[39;00m\u001b[33m%\u001b[39m\u001b[33m\"\u001b[39m)\n",
      "\u001b[31mNameError\u001b[39m: name 'X_test_scaled' is not defined"
     ]
    }
   ],
   "source": [
    "y_pred = model.predict(X_test_scaled)\n",
    "\n",
    "accuracy = accuracy_score(y_test, y_pred)\n",
    "print(f\"Akurasi Model: {accuracy * 100:.2f}%\")\n",
    "\n",
    "print(\"\\nLaporan Klasifikasi:\")\n",
    "print(classification_report(y_test, y_pred, target_names=le.classes_, zero_division=0))"
   ]
  },
  {
   "cell_type": "code",
   "execution_count": 15,
   "id": "a1fd7084",
   "metadata": {},
   "outputs": [
    {
     "ename": "NameError",
     "evalue": "name 'y_test' is not defined",
     "output_type": "error",
     "traceback": [
      "\u001b[31m---------------------------------------------------------------------------\u001b[39m",
      "\u001b[31mNameError\u001b[39m                                 Traceback (most recent call last)",
      "\u001b[36mCell\u001b[39m\u001b[36m \u001b[39m\u001b[32mIn[15]\u001b[39m\u001b[32m, line 1\u001b[39m\n\u001b[32m----> \u001b[39m\u001b[32m1\u001b[39m cm = confusion_matrix(\u001b[43my_test\u001b[49m, y_pred)\n\u001b[32m      3\u001b[39m plt.figure(figsize=(\u001b[32m10\u001b[39m, \u001b[32m8\u001b[39m))\n\u001b[32m      4\u001b[39m sns.heatmap(cm, annot=\u001b[38;5;28;01mTrue\u001b[39;00m, fmt=\u001b[33m'\u001b[39m\u001b[33md\u001b[39m\u001b[33m'\u001b[39m, cmap=\u001b[33m'\u001b[39m\u001b[33mBlues\u001b[39m\u001b[33m'\u001b[39m,\n\u001b[32m      5\u001b[39m             xticklabels=le.classes_, yticklabels=le.classes_)\n",
      "\u001b[31mNameError\u001b[39m: name 'y_test' is not defined"
     ]
    }
   ],
   "source": [
    "cm = confusion_matrix(y_test, y_pred)\n",
    "\n",
    "plt.figure(figsize=(10, 8))\n",
    "sns.heatmap(cm, annot=True, fmt='d', cmap='Blues',\n",
    "            xticklabels=le.classes_, yticklabels=le.classes_)\n",
    "plt.title('Confusion Matrix')\n",
    "plt.ylabel('Label Sebenarnya')\n",
    "plt.xlabel('Label Prediksi')\n",
    "plt.show()"
   ]
  },
  {
   "cell_type": "markdown",
   "id": "8fe920ff",
   "metadata": {},
   "source": [
    "## **Deployment dengan Streamlit**\n",
    "\n",
    "Pada tahap ini, kita akan menyimpan model, scaler, dan encoder yang telah kita buat agar bisa digunakan dalam sebuah aplikasi web sederhana."
   ]
  },
  {
   "cell_type": "code",
   "execution_count": 4,
   "id": "5f0f63b5",
   "metadata": {},
   "outputs": [
    {
     "ename": "NameError",
     "evalue": "name 'pickle' is not defined",
     "output_type": "error",
     "traceback": [
      "\u001b[31m---------------------------------------------------------------------------\u001b[39m",
      "\u001b[31mNameError\u001b[39m                                 Traceback (most recent call last)",
      "\u001b[36mCell\u001b[39m\u001b[36m \u001b[39m\u001b[32mIn[4]\u001b[39m\u001b[32m, line 1\u001b[39m\n\u001b[32m----> \u001b[39m\u001b[32m1\u001b[39m \u001b[43mpickle\u001b[49m.dump(model, \u001b[38;5;28mopen\u001b[39m(\u001b[33m'\u001b[39m\u001b[33mmodel_nutrisi.pkl\u001b[39m\u001b[33m'\u001b[39m, \u001b[33m'\u001b[39m\u001b[33mwb\u001b[39m\u001b[33m'\u001b[39m))\n\u001b[32m      2\u001b[39m pickle.dump(scaler, \u001b[38;5;28mopen\u001b[39m(\u001b[33m'\u001b[39m\u001b[33mscaler_nutrisi.pkl\u001b[39m\u001b[33m'\u001b[39m, \u001b[33m'\u001b[39m\u001b[33mwb\u001b[39m\u001b[33m'\u001b[39m))\n\u001b[32m      3\u001b[39m pickle.dump(le, \u001b[38;5;28mopen\u001b[39m(\u001b[33m'\u001b[39m\u001b[33mencoder_nutrisi.pkl\u001b[39m\u001b[33m'\u001b[39m, \u001b[33m'\u001b[39m\u001b[33mwb\u001b[39m\u001b[33m'\u001b[39m))\n",
      "\u001b[31mNameError\u001b[39m: name 'pickle' is not defined"
     ]
    }
   ],
   "source": [
    "pickle.dump(model, open('model_nutrisi.pkl', 'wb'))\n",
    "pickle.dump(scaler, open('scaler_nutrisi.pkl', 'wb'))\n",
    "pickle.dump(le, open('encoder_nutrisi.pkl', 'wb'))\n",
    "print(\"Model, scaler, dan encoder berhasil disimpan dalam file .pkl\")"
   ]
  },
  {
   "cell_type": "markdown",
   "id": "96ddfcad",
   "metadata": {},
   "source": [
    "### **Membuat File Aplikasi Streamlit (`app.py`)**\n",
    "\n",
    "Sel kode di bawah ini akan menulis sebuah file bernama `app.py`. File ini berisi kode untuk antarmuka pengguna (UI) dari aplikasi web kita."
   ]
  },
  {
   "cell_type": "code",
   "execution_count": 5,
   "id": "228bcf83",
   "metadata": {},
   "outputs": [
    {
     "name": "stdout",
     "output_type": "stream",
     "text": [
      "Overwriting app.py\n"
     ]
    }
   ],
   "source": [
    "%%writefile app.py\n",
    "\n",
    "import streamlit as st\n",
    "import pickle\n",
    "import numpy as np\n",
    "import pandas as pd\n",
    "\n",
    "try:\n",
    "    with open('model_nutrisi.pkl', 'rb') as f_model:\n",
    "        model = pickle.load(f_model)\n",
    "    with open('scaler_nutrisi.pkl', 'rb') as f_scaler:\n",
    "        scaler = pickle.load(f_scaler)\n",
    "    with open('encoder_nutrisi.pkl', 'rb') as f_encoder:\n",
    "        le = pickle.load(f_encoder)\n",
    "except FileNotFoundError:\n",
    "    st.error(\"Pastikan file model.pkl, scaler.pkl, dan encoder.pkl ada di direktori yang sama.\")\n",
    "    st.stop()\n",
    "\n",
    "st.title(\"🍔 Prediksi Kategori Makanan\")\n",
    "st.write(\"Masukkan nilai nutrisi untuk memprediksi kategori makanan menggunakan model Naive Bayes.\")\n",
    "\n",
    "st.sidebar.header(\"Input Nilai Nutrisi:\")\n",
    "\n",
    "def user_inputs():\n",
    "    calories = st.sidebar.slider('Kalori', 0, 2000, 500)\n",
    "    fat = st.sidebar.slider('Lemak (g)', 0.0, 100.0, 25.0)\n",
    "    sat_fat = st.sidebar.slider('Lemak Jenuh (g)', 0.0, 50.0, 10.0)\n",
    "    cholesterol = st.sidebar.slider('Kolesterol (mg)', 0, 500, 50)\n",
    "    sodium = st.sidebar.slider('Sodium (mg)', 0, 4000, 1000)\n",
    "    carbs = st.sidebar.slider('Karbohidrat (g)', 0.0, 200.0, 50.0)\n",
    "    fiber = st.sidebar.slider('Serat (g)', 0.0, 20.0, 4.0)\n",
    "    sugars = st.sidebar.slider('Gula (g)', 0.0, 100.0, 10.0)\n",
    "    protein = st.sidebar.slider('Protein (g)', 0.0, 100.0, 20.0)\n",
    "\n",
    "    data = {\n",
    "        'Calories': calories, 'Fat (g)': fat, 'Saturated Fat (g)': sat_fat,\n",
    "        'Cholesterol (mg)': cholesterol, 'Sodium (mg)': sodium, 'Carbs (g)': carbs,\n",
    "        'Fiber (g)': fiber, 'Sugars (g)': sugars, 'Protein (g)': protein\n",
    "    }\n",
    "    features = np.array(list(data.values())).reshape(1, -1)\n",
    "    return features\n",
    "\n",
    "input_features = user_inputs()\n",
    "\n",
    "if st.sidebar.button(\"Prediksi Kategori\"):\n",
    "    input_scaled = scaler.transform(input_features)\n",
    "    prediction_encoded = model.predict(input_scaled)\n",
    "    prediction_category = le.inverse_transform(prediction_encoded)[0]\n",
    "\n",
    "    st.subheader(\"Hasil Prediksi\")\n",
    "    st.success(f\"Makanan ini kemungkinan besar termasuk dalam kategori: **{prediction_category}**\")\n",
    "\n",
    "    st.subheader(\"Probabilitas per Kategori\")\n",
    "    prediction_proba = model.predict_proba(input_scaled)\n",
    "    proba_df = pd.DataFrame(prediction_proba, columns=le.classes_).T\n",
    "    proba_df.rename(columns={0: 'Probabilitas'}, inplace=True)\n",
    "    st.bar_chart(proba_df)\n",
    "else:\n",
    "    st.info(\"Atur nilai nutrisi di sidebar kiri dan klik tombol prediksi untuk melihat hasilnya.\")"
   ]
  },
  {
   "cell_type": "markdown",
   "id": "e9a35f2d",
   "metadata": {},
   "source": [
    "### **Menjalankan Aplikasi**\n",
    "\n",
    "Gunakan sel-sel kode berikut untuk menginstal library yang diperlukan dan menjalankan aplikasi web Anda."
   ]
  },
  {
   "cell_type": "code",
   "execution_count": 6,
   "id": "bcd376dc",
   "metadata": {},
   "outputs": [],
   "source": [
    "!pip install -q streamlit pyngrok"
   ]
  },
  {
   "cell_type": "code",
   "execution_count": null,
   "id": "26e86a4c",
   "metadata": {},
   "outputs": [],
   "source": [
    "!ngrok config add-authtoken YOUR_AUTHTOKEN_HERE"
   ]
  },
  {
   "cell_type": "code",
   "execution_count": 19,
   "id": "4c9e155d",
   "metadata": {},
   "outputs": [
    {
     "ename": "ModuleNotFoundError",
     "evalue": "No module named 'pyngrok'",
     "output_type": "error",
     "traceback": [
      "\u001b[31m---------------------------------------------------------------------------\u001b[39m",
      "\u001b[31mModuleNotFoundError\u001b[39m                       Traceback (most recent call last)",
      "\u001b[36mCell\u001b[39m\u001b[36m \u001b[39m\u001b[32mIn[19]\u001b[39m\u001b[32m, line 1\u001b[39m\n\u001b[32m----> \u001b[39m\u001b[32m1\u001b[39m \u001b[38;5;28;01mfrom\u001b[39;00m\u001b[38;5;250m \u001b[39m\u001b[34;01mpyngrok\u001b[39;00m\u001b[38;5;250m \u001b[39m\u001b[38;5;28;01mimport\u001b[39;00m ngrok\n\u001b[32m      2\u001b[39m \u001b[38;5;28;01mimport\u001b[39;00m\u001b[38;5;250m \u001b[39m\u001b[34;01mthreading\u001b[39;00m\n\u001b[32m      3\u001b[39m \u001b[38;5;28;01mimport\u001b[39;00m\u001b[38;5;250m \u001b[39m\u001b[34;01mos\u001b[39;00m\n",
      "\u001b[31mModuleNotFoundError\u001b[39m: No module named 'pyngrok'"
     ]
    }
   ],
   "source": [
    "from pyngrok import ngrok\n",
    "import threading\n",
    "import os\n",
    "\n",
    "def run_streamlit():\n",
    "    os.system(\"streamlit run app.py --server.port 8501 --server.headless true\")\n",
    "\n",
    "thread = threading.Thread(target=run_streamlit)\n",
    "thread.daemon = True\n",
    "thread.start()\n",
    "\n",
    "public_url = ngrok.connect(8501)\n",
    "print(f\"Aplikasi Anda dapat diakses di URL publik ini: {public_url}\")"
   ]
  }
 ],
 "metadata": {
  "kernelspec": {
   "display_name": "Python 3",
   "language": "python",
   "name": "python3"
  },
  "language_info": {
   "codemirror_mode": {
    "name": "ipython",
    "version": 3
   },
   "file_extension": ".py",
   "mimetype": "text/x-python",
   "name": "python",
   "nbconvert_exporter": "python",
   "pygments_lexer": "ipython3",
   "version": "3.12.0"
  }
 },
 "nbformat": 4,
 "nbformat_minor": 5
}
